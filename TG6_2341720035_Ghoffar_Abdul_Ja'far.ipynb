{
  "nbformat": 4,
  "nbformat_minor": 0,
  "metadata": {
    "colab": {
      "provenance": [],
      "authorship_tag": "ABX9TyOBR+4OVZaoEqVNrmB+1962",
      "include_colab_link": true
    },
    "kernelspec": {
      "name": "python3",
      "display_name": "Python 3"
    },
    "language_info": {
      "name": "python"
    }
  },
  "cells": [
    {
      "cell_type": "markdown",
      "metadata": {
        "id": "view-in-github",
        "colab_type": "text"
      },
      "source": [
        "<a href=\"https://colab.research.google.com/github/GhoffarFitassin/ML_2025-2026/blob/main/TG6_2341720035_Ghoffar_Abdul_Ja'far.ipynb\" target=\"_parent\"><img src=\"https://colab.research.google.com/assets/colab-badge.svg\" alt=\"Open In Colab\"/></a>"
      ]
    },
    {
      "cell_type": "markdown",
      "source": [
        "# JS06 - ANN (Approximate Nearest Neighbors)"
      ],
      "metadata": {
        "id": "r-ISPOLFsopi"
      }
    },
    {
      "cell_type": "markdown",
      "source": [
        "## Praktikum"
      ],
      "metadata": {
        "id": "3Rza2FHbsxKL"
      }
    },
    {
      "cell_type": "markdown",
      "source": [
        "### Praktikum 1"
      ],
      "metadata": {
        "id": "gEC4uA9Ps8wo"
      }
    },
    {
      "cell_type": "code",
      "execution_count": 1,
      "metadata": {
        "colab": {
          "base_uri": "https://localhost:8080/"
        },
        "id": "9CjCghvRsm2C",
        "outputId": "a7e6d4bc-1c90-4faf-d0df-ff9f3855e9ac"
      },
      "outputs": [
        {
          "output_type": "stream",
          "name": "stdout",
          "text": [
            "\u001b[?25l     \u001b[90m━━━━━━━━━━━━━━━━━━━━━━━━━━━━━━━━━━━━━━━━\u001b[0m \u001b[32m0.0/647.5 kB\u001b[0m \u001b[31m?\u001b[0m eta \u001b[36m-:--:--\u001b[0m\r\u001b[2K     \u001b[91m━━━━━━━━━━━━\u001b[0m\u001b[90m╺\u001b[0m\u001b[90m━━━━━━━━━━━━━━━━━━━━━━━━━━\u001b[0m \u001b[32m204.8/647.5 kB\u001b[0m \u001b[31m5.9 MB/s\u001b[0m eta \u001b[36m0:00:01\u001b[0m\r\u001b[2K     \u001b[90m━━━━━━━━━━━━━━━━━━━━━━━━━━━━━━━━━━━━━━━\u001b[0m \u001b[32m647.5/647.5 kB\u001b[0m \u001b[31m9.3 MB/s\u001b[0m eta \u001b[36m0:00:00\u001b[0m\n",
            "\u001b[?25h  Preparing metadata (setup.py) ... \u001b[?25l\u001b[?25hdone\n",
            "  Building wheel for annoy (setup.py) ... \u001b[?25l\u001b[?25hdone\n"
          ]
        }
      ],
      "source": [
        "!pip install annoy -q"
      ]
    },
    {
      "cell_type": "code",
      "source": [
        "import numpy as np\n",
        "import matplotlib.pyplot as plt\n",
        "import time\n",
        "\n",
        "from annoy import AnnoyIndex\n",
        "\n",
        "TREES = 3\n",
        "\n",
        "# 1. Dataset 2D\n",
        "np.random.seed(42)\n",
        "n_points = 100000\n",
        "X = np.random.rand(n_points, 2) * 100  # titik random dalam ruang 100x100\n",
        "\n",
        "# Query point (ambil salah satu titik random)\n",
        "query = X[np.random.randint(0, n_points)]\n",
        "\n",
        "# 2. Exact NN (brute force)\n",
        "start = time.time()\n",
        "distances = np.linalg.norm(X - query, axis=1)\n",
        "idx_exact = np.argsort(distances)[:3]  # ambil 3 terdekat\n",
        "time_exact = time.time() - start\n",
        "\n",
        "print(\"Exact NN index:\", idx_exact)\n",
        "print(\"Exact NN jarak:\", distances[idx_exact])\n",
        "print(\"Waktu Exact:\", round(time_exact*1000, 4), \"ms\")\n",
        "\n",
        "# 3. Annoy NN\n",
        "f = 2  # dimensi\n",
        "t = AnnoyIndex(f, 'angular')\n",
        "for i, vec in enumerate(X):\n",
        "    t.add_item(i, vec)\n",
        "\n",
        "t.build(TREES)  # gunakan jumlah tree dari variabel\n",
        "\n",
        "start = time.time()\n",
        "idx_ann = t.get_nns_by_vector(query, 3)  # cari 3 NN\n",
        "time_ann = time.time() - start\n",
        "\n",
        "print(\"\\nAnnoy NN index:\", idx_ann)\n",
        "print(\"Annoy NN jarak:\", [np.linalg.norm(X[i]-query) for i in idx_ann])\n",
        "print(\"Waktu Annoy:\", round(time_ann*1000, 4), \"ms\")\n",
        "\n",
        "# 4. Visualisasi hasil\n",
        "plt.figure(figsize=(6,6))\n",
        "plt.scatter(X[:,0], X[:,1], c=\"lightgray\", s=20, label=\"Dataset\")\n",
        "plt.scatter(query[0], query[1], c=\"red\", marker=\"x\", s=100, label=\"Query\")\n",
        "\n",
        "# Exact NN ditandai biru\n",
        "plt.scatter(X[idx_exact,0], X[idx_exact,1], c=\"blue\", s=80, label=\"Exact NN\")\n",
        "\n",
        "# Annoy NN ditandai hijau\n",
        "plt.scatter(X[idx_ann,0], X[idx_ann,1], c=\"green\", s=50, marker=\"s\", label=\"Annoy NN\")\n",
        "\n",
        "plt.legend()\n",
        "plt.title(f\"Exact NN vs Annoy NN ({TREES} trees)\")\n",
        "plt.show()"
      ],
      "metadata": {
        "colab": {
          "base_uri": "https://localhost:8080/",
          "height": 670
        },
        "id": "qfMeqhZItByo",
        "outputId": "3e17b7d3-40d6-47d4-a912-c31beef2684c"
      },
      "execution_count": 2,
      "outputs": [
        {
          "output_type": "stream",
          "name": "stdout",
          "text": [
            "Exact NN index: [64040 64186 88792]\n",
            "Exact NN jarak: [0.         0.15797867 0.25332711]\n",
            "Waktu Exact: 16.572 ms\n",
            "\n",
            "Annoy NN index: [64040, 1310, 9720]\n",
            "Annoy NN jarak: [np.float64(0.0), np.float64(13.237907813420613), np.float64(54.73661775436655)]\n",
            "Waktu Annoy: 0.1199 ms\n"
          ]
        },
        {
          "output_type": "display_data",
          "data": {
            "text/plain": [
              "<Figure size 600x600 with 1 Axes>"
            ],
            "image/png": "[encoded data removed]"
          },
          "metadata": {}
        }
      ]
    },
    {
      "cell_type": "markdown",
      "source": [
        "| Distance Metrics | Tree | Jumlah data | Hasil Index terdekat ENN vs ANN            | Waktu komputasi Vs |\n",
        "| ---------------- | ---- | ----------- | ------------------------------------------ | ------------------ |\n",
        "| Euclidean        | 3    | 1000        | [219 898 593], [219 898 593]               | 0.0 , 0.0          |\n",
        "| Euclidean        | 8    | 1000        | [219 898 593], [219 898 593]               | 0.0 , 0.0          |\n",
        "| Euclidean        | 3    | 100,000     | [64040 64186 88792], [64040, 64186, 88792] | 4.6554 , 0.0       |\n",
        "| Angular          | 3    | 1000        | [219 898 593], [219, 429, 540]             | 0.0 , 0.0          |\n",
        "| Angular          | 8    | 1000        | [219 898 593], [219, 429, 540]             | 0.0 , 0.0          |\n",
        "| Angular          | 3    | 100,000     | [64040 64186 88792], [65999, 7452, 41684]  | 5.9988 , 0.0       |\n"
      ],
      "metadata": {
        "id": "OgHEiHU4t0yf"
      }
    },
    {
      "cell_type": "markdown",
      "source": [
        "20 fitur dan berisi 1 juta lagu (fyi, spotify memiliki 150 jutaan track), isikan hasilnya."
      ],
      "metadata": {
        "id": "6QD1sFI_tGY5"
      }
    },
    {
      "cell_type": "code",
      "source": [
        "import numpy as np\n",
        "import time\n",
        "from sklearn.metrics.pairwise import euclidean_distances\n",
        "from annoy import AnnoyIndex\n",
        "\n",
        "# ---- 1. Buat dataset mirip Spotify ----\n",
        "n_tracks = 1_000_000   # 50 juta track\n",
        "n_features = 20        # contoh: danceability, energy, tempo, dll.\n",
        "\n",
        "# dataset besar (random untuk simulasi)\n",
        "X = np.random.rand(n_tracks, n_features).astype(np.float32)\n",
        "\n",
        "# query track (misalnya lagu baru)\n",
        "query = np.random.rand(1, n_features).astype(np.float32)\n",
        "\n",
        "# ---- 2. Exact NN (brute force) ----\n",
        "start = time.time()\n",
        "distances = euclidean_distances(query, X)[0]   # hitung semua jarak\n",
        "exact_idx = np.argsort(distances)[:5]          # ambil 5 terdekat\n",
        "exact_time = time.time() - start\n",
        "\n",
        "print(\"Exact NN result:\", exact_idx)\n",
        "print(\"Exact NN time:\", round(exact_time, 3), \"seconds\")\n",
        "\n",
        "# ---- 3. Approx NN pakai Annoy ----\n",
        "f = n_features\n",
        "annoy_index = AnnoyIndex(f, 'angular')\n",
        "n_trees = 8\n",
        "\n",
        "# build index\n",
        "for i in range(n_tracks):\n",
        "    annoy_index.add_item(i, X[i])\n",
        "annoy_index.build(n_trees)\n",
        "\n",
        "start = time.time()\n",
        "annoy_idx = annoy_index.get_nns_by_vector(query[0], 5)  # ambil 5 lagu yang mirip\n",
        "annoy_time = time.time() - start\n",
        "\n",
        "print(\"Annoy result:\", annoy_idx)\n",
        "print(\"Annoy time:\", round(annoy_time, 3), \"seconds\")\n"
      ],
      "metadata": {
        "colab": {
          "base_uri": "https://localhost:8080/"
        },
        "id": "_WyYEoLrtIad",
        "outputId": "16faa0b4-54fc-4992-d43c-976cd6e217b6"
      },
      "execution_count": 3,
      "outputs": [
        {
          "output_type": "stream",
          "name": "stdout",
          "text": [
            "Exact NN result: [269630 804377 312985 776031 370166]\n",
            "Exact NN time: 0.142 seconds\n",
            "Annoy result: [666661, 782520, 392973, 130976, 432802]\n",
            "Annoy time: 0.0 seconds\n"
          ]
        }
      ]
    },
    {
      "cell_type": "markdown",
      "source": [
        "| Distance Metrics | Tree | Jumlah data | Hasil Index terdekat ENN vs ANN                                               | Waktu komputasi Vs |\n",
        "| ---------------- | ---- | ----------- | ----------------------------------------------------------------------------- | ------------------ |\n",
        "| Euclidean        | 8    | 1000000     | [269630 804377 312985 776031 370166], [732765, 99627, 675365, 290409, 455509] | 0.063 , 0.0        |\n",
        "| Angular          | 8    | 1000000     | [ 45743 910736 719534 416455 143689], [948704, 93503, 488511, 936700, 948910] | 0.068 , 0.0        |\n"
      ],
      "metadata": {
        "id": "z1Ia5btTt3UP"
      }
    },
    {
      "cell_type": "markdown",
      "source": [
        "### Pertanyaannya: Kenapa code dibagian build index tidak dihitung waktunya?\n",
        "\n",
        "karena proses building dan searching dianggap sebagai dua tahap yang terpisah dengan tujuan yang berbeda."
      ],
      "metadata": {
        "id": "mCxuVJkitTL0"
      }
    },
    {
      "cell_type": "markdown",
      "source": [
        "### Praktikum 2"
      ],
      "metadata": {
        "id": "cOjGf5RDtJeu"
      }
    },
    {
      "cell_type": "code",
      "source": [
        "!pip install faiss-cpu -q\n",
        "# !pip install faiss-gpu -q"
      ],
      "metadata": {
        "colab": {
          "base_uri": "https://localhost:8080/"
        },
        "id": "OsvPB2dUtjVk",
        "outputId": "055d9ae0-878f-492f-814c-4653e94a1c57"
      },
      "execution_count": 4,
      "outputs": [
        {
          "output_type": "stream",
          "name": "stdout",
          "text": [
            "\u001b[2K   \u001b[90m━━━━━━━━━━━━━━━━━━━━━━━━━━━━━━━━━━━━━━━━\u001b[0m \u001b[32m31.4/31.4 MB\u001b[0m \u001b[31m65.3 MB/s\u001b[0m eta \u001b[36m0:00:00\u001b[0m\n",
            "\u001b[?25h"
          ]
        }
      ]
    },
    {
      "cell_type": "code",
      "source": [
        "import numpy as np\n",
        "import faiss\n",
        "import matplotlib.pyplot as plt\n",
        "import time\n",
        "\n",
        "# 1. Buat dataset 2D sederhana\n",
        "np.random.seed(42)\n",
        "X = np.random.rand(1000, 2).astype('float32')  # 1000 titik 2D\n",
        "query = np.array([[0.5, 0.5]], dtype='float32')  # query di tengah\n",
        "\n",
        "# 2. Exact NN dengan IndexFlatL2 (brute force tapi cepat)\n",
        "index_flat = faiss.IndexFlatL2(2)   # L2 = Euclidean distance\n",
        "index_flat.add(X)\n",
        "\n",
        "start = time.time()\n",
        "D_flat, I_flat = index_flat.search(query, 3)  # cari 3 tetangga terdekat\n",
        "end = time.time()\n",
        "time_flat = end - start\n",
        "\n",
        "# 3. IVF + PQ (Approximate)\n",
        "nlist = 10   # jumlah cluster (inverted list)\n",
        "m = 2        # berapa subvector untuk product quantization\n",
        "quantizer = faiss.IndexFlatL2(2)   # dipakai IVF untuk cluster awal\n",
        "index_ivfpq = faiss.IndexIVFPQ(quantizer, 2, nlist, m, 8)  # 8 bit per subvector\n",
        "\n",
        "index_ivfpq.train(X)  # training centroid\n",
        "index_ivfpq.add(X)\n",
        "\n",
        "start = time.time()\n",
        "D_ivfpq, I_ivfpq = index_ivfpq.search(query, 3)\n",
        "end = time.time()\n",
        "time_ivfpq = end - start\n",
        "\n",
        "# 4. Print hasil\n",
        "print(\"Exact NN (Flat) indices:\", I_flat, \"distances:\", D_flat)\n",
        "print(\"IVF+PQ indices:\", I_ivfpq, \"distances:\", D_ivfpq)\n",
        "print(\"Waktu Exact:\", time_flat)\n",
        "print(\"Waktu IVF+PQ:\", time_ivfpq)\n",
        "\n",
        "# 5. Visualisasi\n",
        "plt.scatter(X[:,0], X[:,1], alpha=0.4, label=\"Dataset\")\n",
        "plt.scatter(query[:,0], query[:,1], c='red', marker='*', s=200, label=\"Query\")\n",
        "\n",
        "# Tetangga dari Flat\n",
        "plt.scatter(X[I_flat[0],0], X[I_flat[0],1], c='blue', s=100, edgecolor='k', label=\"Exact NN\")\n",
        "\n",
        "# Tetangga dari IVF+PQ\n",
        "plt.scatter(X[I_ivfpq[0],0], X[I_ivfpq[0],1], c='green', marker='x', s=100, label=\"IVF+PQ NN\")\n",
        "\n",
        "plt.legend()\n",
        "plt.title(\"Perbandingan Exact NN vs FAISS IVF+PQ\")\n",
        "plt.show()\n"
      ],
      "metadata": {
        "colab": {
          "base_uri": "https://localhost:8080/",
          "height": 524
        },
        "id": "zijH-O6NtkXr",
        "outputId": "44e6fa18-b902-4727-a1d7-e504b5130fdf"
      },
      "execution_count": 5,
      "outputs": [
        {
          "output_type": "stream",
          "name": "stdout",
          "text": [
            "Exact NN (Flat) indices: [[137 170 750]] distances: [[0.00013095 0.00077404 0.00079751]]\n",
            "IVF+PQ indices: [[137 170 750]] distances: [[0.00012945 0.00079226 0.00080067]]\n",
            "Waktu Exact: 0.00010776519775390625\n",
            "Waktu IVF+PQ: 0.00015020370483398438\n"
          ]
        },
        {
          "output_type": "display_data",
          "data": {
            "text/plain": [
              "<Figure size 640x480 with 1 Axes>"
            ],
            "image/png": "[encoded data removed]"
          },
          "metadata": {}
        }
      ]
    },
    {
      "cell_type": "code",
      "source": [
        "import numpy as np\n",
        "import faiss\n",
        "import time\n",
        "import pandas as pd\n",
        "\n",
        "def run_experiment(n_data, dim, metric_type):\n",
        "    \"\"\"\n",
        "    Fungsi untuk menjalankan satu skenario eksperimen FAISS.\n",
        "\n",
        "    Args:\n",
        "        n_data (int): Jumlah titik data dalam dataset.\n",
        "        dim (int): Dimensi dari setiap titik data.\n",
        "        metric_type (str): 'L2' untuk Euclidean atau 'IP' untuk Inner Product.\n",
        "\n",
        "    Returns:\n",
        "        dict: Kamus berisi hasil metrik performa.\n",
        "    \"\"\"\n",
        "    print(f\"Running experiment: {n_data} data, {dim}D, Metric: {metric_type}...\")\n",
        "\n",
        "    # 1. Generate Dataset\n",
        "    np.random.seed(42)\n",
        "    X = np.random.rand(n_data, dim).astype('float32')\n",
        "    query = np.random.rand(1, dim).astype('float32')\n",
        "    k = 5  # Kita akan mencari 5 tetangga terdekat\n",
        "\n",
        "    # Normalisasi data jika menggunakan Inner Product (penting untuk perbandingan seperti Cosine Similarity)\n",
        "    if metric_type == 'IP':\n",
        "        faiss.normalize_L2(X)\n",
        "        faiss.normalize_L2(query)\n",
        "\n",
        "    # 2. Exact NN (IndexFlat)\n",
        "    if metric_type == 'L2':\n",
        "        index_flat = faiss.IndexFlatL2(dim)\n",
        "    else: # 'IP'\n",
        "        index_flat = faiss.IndexFlatIP(dim)\n",
        "\n",
        "    index_flat.add(X)\n",
        "    start_time = time.time()\n",
        "    D_flat, I_flat = index_flat.search(query, k)\n",
        "    time_flat = time.time() - start_time\n",
        "\n",
        "    # 3. Approximate NN (IndexIVFPQ)\n",
        "    # Menentukan parameter yang masuk akal\n",
        "    nlist = min(int(np.sqrt(n_data)), 256) # Jumlah cluster, dibatasi agar tidak terlalu banyak\n",
        "    m = 1 if dim % 2 != 0 else 2 # Sub-quantizer, m harus bisa membagi dim\n",
        "    if dim == 2: m=2 # Untuk 2D, m=2 lebih optimal\n",
        "    if dim == 5: m=1 # Untuk 5D, m harus 1 atau 5\n",
        "\n",
        "    if metric_type == 'L2':\n",
        "        quantizer = faiss.IndexFlatL2(dim)\n",
        "        index_ivfpq = faiss.IndexIVFPQ(quantizer, dim, nlist, m, 8)\n",
        "    else: # 'IP'\n",
        "        quantizer = faiss.IndexFlatIP(dim)\n",
        "        # Untuk IP, metrik harus didefinisikan juga di quantizer\n",
        "        index_ivfpq = faiss.IndexIVFPQ(quantizer, dim, nlist, m, 8, faiss.METRIC_INNER_PRODUCT)\n",
        "\n",
        "    # Waktu Build (Train + Add)\n",
        "    start_build = time.time()\n",
        "    index_ivfpq.train(X[:min(n_data, 100000)]) # Training hanya butuh sampel data\n",
        "    index_ivfpq.add(X)\n",
        "    time_build = time.time() - start_build\n",
        "\n",
        "    # Waktu Search\n",
        "    index_ivfpq.nprobe = 5 # Berapa cluster tetangga yang akan dicari\n",
        "    start_time = time.time()\n",
        "    D_ivfpq, I_ivfpq = index_ivfpq.search(query, k)\n",
        "    time_ivfpq = time.time() - start_time\n",
        "\n",
        "    # 4. Hitung Recall (Akurasi)\n",
        "    # Seberapa banyak tetangga terdekat yang benar ditemukan oleh metode approximate\n",
        "    true_neighbors = set(I_flat[0])\n",
        "    approx_neighbors = set(I_ivfpq[0])\n",
        "    recall = len(true_neighbors.intersection(approx_neighbors)) / k\n",
        "\n",
        "    return {\n",
        "        \"Ukuran Data\": n_data,\n",
        "        \"Dimensi\": dim,\n",
        "        \"Metrik Jarak\": metric_type,\n",
        "        \"Waktu Build (IVFPQ) (s)\": round(time_build, 6),\n",
        "        \"Waktu Search (Exact) (s)\": round(time_flat, 6),\n",
        "        \"Waktu Search (IVFPQ) (s)\": round(time_ivfpq, 6),\n",
        "        f\"Recall@{k}\": recall\n",
        "    }\n",
        "\n",
        "# --- Main Execution ---\n",
        "scenarios = [\n",
        "    (1000, 2, 'L2'),\n",
        "    (1000, 5, 'L2'),\n",
        "    (1000000, 2, 'L2'),\n",
        "    (1000000, 5, 'L2'),\n",
        "    (1000, 2, 'IP'),\n",
        "    (1000, 5, 'IP'),\n",
        "    (1000000, 2, 'IP'),\n",
        "    (1000000, 5, 'IP'),\n",
        "]\n",
        "\n",
        "results = []\n",
        "for n_data, dim, metric in scenarios:\n",
        "    results.append(run_experiment(n_data, dim, metric))\n",
        "\n",
        "# Tampilkan hasil dalam tabel pandas\n",
        "df_results = pd.DataFrame(results)\n",
        "print(\"\\n--- Hasil Eksperimen ---\")\n",
        "print(df_results.to_string())"
      ],
      "metadata": {
        "id": "ItVy2E4Atmo5"
      },
      "execution_count": null,
      "outputs": []
    },
    {
      "cell_type": "markdown",
      "source": [
        "| Ukuran Data | Dimensi | Metrik Jarak | Waktu Build (IVFPQ) (s) | Waktu Search (Exact) (s) | Waktu Search (IVFPQ) (s) | Recall@5 |\n",
        "| :---------: | :-----: | :----------: | :---------------------: | :----------------------: | :----------------------: | :------: |\n",
        "|    1000     |    2    |      L2      |        0.004998         |         0.000000         |          0.000           |   1.0    |\n",
        "|    1000     |    5    |      L2      |        0.004001         |         0.000000         |          0.000           |   0.8    |\n",
        "|   1000000   |    2    |      L2      |        0.408952         |         0.003002         |          0.000           |   0.8    |\n",
        "|   1000000   |    5    |      L2      |        0.430403         |         0.004002         |          0.000           |   0.2    |\n",
        "|    1000     |    2    |      IP      |        0.005999         |         0.000000         |          0.000           |   0.4    |\n",
        "|    1000     |    5    |      IP      |        0.004000         |         0.001001         |          0.000           |   0.2    |\n",
        "|   1000000   |    2    |      IP      |        0.771267         |         0.002028         |          0.001           |   0.0    |\n",
        "|   1000000   |    5    |      IP      |        0.693971         |         0.002999         |          0.000           |   0.0    |\n"
      ],
      "metadata": {
        "id": "hXtnroLztpwD"
      }
    },
    {
      "cell_type": "markdown",
      "source": [
        "### Praktikum 3"
      ],
      "metadata": {
        "id": "O61xk8t4uNI0"
      }
    },
    {
      "cell_type": "code",
      "source": [
        "!pip install hnswlib -q"
      ],
      "metadata": {
        "colab": {
          "base_uri": "https://localhost:8080/"
        },
        "id": "cAbcdmrtuPVk",
        "outputId": "c7f621d3-ed7c-4498-d79d-0810ce6b1031"
      },
      "execution_count": 6,
      "outputs": [
        {
          "output_type": "stream",
          "name": "stdout",
          "text": [
            "  Installing build dependencies ... \u001b[?25l\u001b[?25hdone\n",
            "  Getting requirements to build wheel ... \u001b[?25l\u001b[?25hdone\n",
            "  Preparing metadata (pyproject.toml) ... \u001b[?25l\u001b[?25hdone\n",
            "  Building wheel for hnswlib (pyproject.toml) ... \u001b[?25l\u001b[?25hdone\n"
          ]
        }
      ]
    },
    {
      "cell_type": "code",
      "source": [
        "import hnswlib\n",
        "import numpy as np\n",
        "import time\n",
        "from sklearn.neighbors import NearestNeighbors\n",
        "\n",
        "# ===========================\n",
        "# 1. Buat data 2D acak\n",
        "# ===========================\n",
        "num_elements = 1000\n",
        "dim = 2\n",
        "data = np.random.random((num_elements, dim)).astype(np.float32)\n",
        "\n",
        "# Query point\n",
        "query = np.array([[0.5, 0.5]], dtype=np.float32)\n",
        "k = 5  # cari 5 tetangga terdekat\n",
        "\n",
        "# ===========================\n",
        "# 2. Exact NN (Brute Force)\n",
        "# ===========================\n",
        "nn = NearestNeighbors(n_neighbors=k, algorithm='brute', metric='euclidean')\n",
        "nn.fit(data)\n",
        "\n",
        "start = time.time()\n",
        "distances, indices = nn.kneighbors(query)\n",
        "end = time.time()\n",
        "\n",
        "print(\"=== Exact NN ===\")\n",
        "print(\"Indices:\", indices)\n",
        "print(\"Distances:\", distances)\n",
        "print(\"Waktu:\", end - start, \"detik\")\n",
        "\n",
        "# ===========================\n",
        "# 3. HNSW\n",
        "# ===========================\n",
        "# Inisialisasi index HNSW\n",
        "p = hnswlib.Index(space='l2', dim=dim)\n",
        "\n",
        "# Ukuran maksimum elemen yang bisa ditampung\n",
        "p.init_index(max_elements=num_elements, ef_construction=100, M=16)\n",
        "\n",
        "# Tambahkan data\n",
        "p.add_items(data)\n",
        "\n",
        "# Set parameter pencarian\n",
        "p.set_ef(50)   # tradeoff speed vs accuracy\n",
        "\n",
        "start = time.time()\n",
        "labels, distances = p.knn_query(query, k=k)\n",
        "end = time.time()\n",
        "\n",
        "print(\"\\n=== HNSW ===\")\n",
        "print(\"Indices:\", labels)\n",
        "print(\"Distances:\", distances)\n",
        "print(\"Waktu:\", end - start, \"detik\")"
      ],
      "metadata": {
        "colab": {
          "base_uri": "https://localhost:8080/"
        },
        "id": "UNrhtxNTuT7M",
        "outputId": "d92f0a49-b173-434c-910b-2f294b16820c"
      },
      "execution_count": 7,
      "outputs": [
        {
          "output_type": "stream",
          "name": "stdout",
          "text": [
            "=== Exact NN ===\n",
            "Indices: [[830 247 473 913 592]]\n",
            "Distances: [[0.00993625 0.01363944 0.01646171 0.03779694 0.03859071]]\n",
            "Waktu: 0.039118289947509766 detik\n",
            "\n",
            "=== HNSW ===\n",
            "Indices: [[830 247 473 913 592]]\n",
            "Distances: [[9.8728990e-05 1.8603441e-04 2.7098786e-04 1.4286089e-03 1.4892431e-03]]\n",
            "Waktu: 0.00018024444580078125 detik\n"
          ]
        }
      ]
    },
    {
      "cell_type": "code",
      "source": [
        "import hnswlib\n",
        "import numpy as np\n",
        "import time\n",
        "import pandas as pd\n",
        "from sklearn.neighbors import NearestNeighbors\n",
        "\n",
        "def run_experiment(n_data, dim, metric_type):\n",
        "    \"\"\"\n",
        "    Fungsi untuk menjalankan satu skenario eksperimen HNSW vs Brute-Force.\n",
        "\n",
        "    Args:\n",
        "        n_data (int): Jumlah titik data.\n",
        "        dim (int): Dimensi data.\n",
        "        metric_type (str): 'l2' untuk Euclidean atau 'ip' untuk Inner Product.\n",
        "\n",
        "    Returns:\n",
        "        dict: Kamus berisi hasil metrik performa.\n",
        "    \"\"\"\n",
        "    print(f\"Running experiment: {n_data} data, {dim}D, Metric: {metric_type}...\")\n",
        "\n",
        "    # 1. Generate Dataset\n",
        "    np.random.seed(42)\n",
        "    data = np.random.random((n_data, dim)).astype(np.float32)\n",
        "    query = np.random.random((1, dim)).astype(np.float32)\n",
        "    k = 5 # Mencari 5 tetangga terdekat\n",
        "\n",
        "    # Untuk Inner Product, normalisasi data sangat penting\n",
        "    # agar setara dengan Cosine Similarity.\n",
        "    if metric_type == 'ip':\n",
        "        norm_data = np.linalg.norm(data, axis=1)\n",
        "        data = data / norm_data[:, np.newaxis]\n",
        "        norm_query = np.linalg.norm(query, axis=1)\n",
        "        query = query / norm_query[:, np.newaxis]\n",
        "        sklearn_metric = 'cosine'\n",
        "    else:\n",
        "        sklearn_metric = 'euclidean'\n",
        "\n",
        "\n",
        "    # 2. Exact NN (Brute Force)\n",
        "    nn = NearestNeighbors(n_neighbors=k, algorithm='brute', metric=sklearn_metric)\n",
        "    nn.fit(data)\n",
        "    start_time = time.time()\n",
        "    _, indices_exact = nn.kneighbors(query)\n",
        "    time_exact = time.time() - start_time\n",
        "\n",
        "\n",
        "    # 3. HNSW (Approximate NN)\n",
        "    p = hnswlib.Index(space=metric_type, dim=dim)\n",
        "\n",
        "    # Waktu Build\n",
        "    start_build = time.time()\n",
        "    p.init_index(max_elements=n_data, ef_construction=200, M=16)\n",
        "    p.add_items(data)\n",
        "    time_build = time.time() - start_build\n",
        "\n",
        "    # Waktu Search\n",
        "    p.set_ef(50)\n",
        "    start_search = time.time()\n",
        "    indices_hnsw, _ = p.knn_query(query, k=k)\n",
        "    time_hnsw = time.time() - start_search\n",
        "\n",
        "    # 4. Hitung Recall (Akurasi)\n",
        "    true_neighbors = set(indices_exact[0])\n",
        "    approx_neighbors = set(indices_hnsw[0])\n",
        "    recall = len(true_neighbors.intersection(approx_neighbors)) / k\n",
        "\n",
        "    return {\n",
        "        \"Ukuran Data\": n_data,\n",
        "        \"Dimensi\": dim,\n",
        "        \"Metrik Jarak\": metric_type.upper(),\n",
        "        \"Waktu Build (HNSW) (s)\": round(time_build, 6),\n",
        "        \"Waktu Search (Exact) (s)\": round(time_exact, 6),\n",
        "        \"Waktu Search (HNSW) (s)\": round(time_hnsw, 6),\n",
        "        f\"Recall@{k}\": recall\n",
        "    }\n",
        "\n",
        "# --- Eksekusi Semua Skenario ---\n",
        "scenarios = [\n",
        "    (1000, 2, 'l2'),\n",
        "    (1000, 5, 'l2'),\n",
        "    (1000000, 2, 'l2'),\n",
        "    (1000000, 5, 'l2'),\n",
        "    (1000, 2, 'ip'),\n",
        "    (1000, 5, 'ip'),\n",
        "    (1000000, 2, 'ip'),\n",
        "    (1000000, 5, 'ip'),\n",
        "]\n",
        "\n",
        "results = []\n",
        "for n_data, dim, metric in scenarios:\n",
        "    results.append(run_experiment(n_data, dim, metric))\n",
        "\n",
        "df_results = pd.DataFrame(results)\n",
        "print(\"\\n--- Hasil Eksperimen ---\")\n",
        "# Konversi ke Markdown\n",
        "md_table = df_results.to_markdown(index=False)\n",
        "print(md_table)"
      ],
      "metadata": {
        "colab": {
          "base_uri": "https://localhost:8080/"
        },
        "id": "dm-TnGK7uX8w",
        "outputId": "a78e6840-234f-41d0-bead-27b1a84caacd"
      },
      "execution_count": 8,
      "outputs": [
        {
          "output_type": "stream",
          "name": "stdout",
          "text": [
            "Running experiment: 1000 data, 2D, Metric: l2...\n",
            "Running experiment: 1000 data, 5D, Metric: l2...\n",
            "Running experiment: 1000000 data, 2D, Metric: l2...\n",
            "Running experiment: 1000000 data, 5D, Metric: l2...\n",
            "Running experiment: 1000 data, 2D, Metric: ip...\n",
            "Running experiment: 1000 data, 5D, Metric: ip...\n",
            "Running experiment: 1000000 data, 2D, Metric: ip...\n",
            "Running experiment: 1000000 data, 5D, Metric: ip...\n",
            "\n",
            "--- Hasil Eksperimen ---\n",
            "|   Ukuran Data |   Dimensi | Metrik Jarak   |   Waktu Build (HNSW) (s) |   Waktu Search (Exact) (s) |   Waktu Search (HNSW) (s) |   Recall@5 |\n",
            "|--------------:|----------:|:---------------|-------------------------:|---------------------------:|--------------------------:|-----------:|\n",
            "|          1000 |         2 | L2             |                 0.04842  |                   0.000921 |                  6.7e-05  |          1 |\n",
            "|          1000 |         5 | L2             |                 0.052075 |                   0.000592 |                  7.1e-05  |          1 |\n",
            "|       1000000 |         2 | L2             |               111.11     |                   0.025776 |                  0.000521 |          1 |\n",
            "|       1000000 |         5 | L2             |               187.372    |                   0.034627 |                  0.000137 |          1 |\n",
            "|          1000 |         2 | IP             |                 0.050756 |                   0.005114 |                  6.8e-05  |          1 |\n",
            "|          1000 |         5 | IP             |                 0.052264 |                   0.001472 |                  9.1e-05  |          1 |\n",
            "|       1000000 |         2 | IP             |               164.057    |                   0.033563 |                  0.00016  |          0 |\n",
            "|       1000000 |         5 | IP             |               155.952    |                   0.143074 |                  0.000274 |          1 |\n"
          ]
        }
      ]
    },
    {
      "cell_type": "markdown",
      "source": [
        "|   Ukuran Data |   Dimensi | Metrik Jarak   |   Waktu Build (HNSW) (s) |   Waktu Search (Exact) (s) |   Waktu Search (HNSW) (s) |   Recall@5 |\n",
        "|--------------:|----------:|:---------------|-------------------------:|---------------------------:|--------------------------:|-----------:|\n",
        "|          1000 |         2 | L2             |                 0.04842  |                   0.000921 |                  6.7e-05  |          1 |\n",
        "|          1000 |         5 | L2             |                 0.052075 |                   0.000592 |                  7.1e-05  |          1 |\n",
        "|       1000000 |         2 | L2             |               111.11     |                   0.025776 |                  0.000521 |          1 |\n",
        "|       1000000 |         5 | L2             |               187.372    |                   0.034627 |                  0.000137 |          1 |\n",
        "|          1000 |         2 | IP             |                 0.050756 |                   0.005114 |                  6.8e-05  |          1 |\n",
        "|          1000 |         5 | IP             |                 0.052264 |                   0.001472 |                  9.1e-05  |          1 |\n",
        "|       1000000 |         2 | IP             |               164.057    |                   0.033563 |                  0.00016  |          0 |\n",
        "|       1000000 |         5 | IP             |               155.952    |                   0.143074 |                  0.000274 |          1 |"
      ],
      "metadata": {
        "id": "ai85PARhuyt0"
      }
    },
    {
      "cell_type": "markdown",
      "source": [
        "### Praktikum 4"
      ],
      "metadata": {
        "id": "PwcHt8Rfu5xr"
      }
    },
    {
      "cell_type": "code",
      "source": [
        "import numpy as np\n",
        "import time\n",
        "from annoy import AnnoyIndex\n",
        "import faiss\n",
        "import hnswlib\n",
        "\n",
        "# ===============================\n",
        "# 1. Buat dataset 1 juta data 5D\n",
        "# ===============================\n",
        "n_data = 1_000_000   # bisa coba 100_000 dulu jika RAM terbatas\n",
        "dim = 5\n",
        "X = np.random.random((n_data, dim)).astype(np.float32)\n",
        "\n",
        "# Query point\n",
        "query = np.random.random((1, dim)).astype(np.float32)\n",
        "k = 10\n",
        "\n",
        "# ===============================\n",
        "# 2. Annoy\n",
        "# ===============================\n",
        "print(\"=== Annoy ===\")\n",
        "ann_index = AnnoyIndex(dim, 'euclidean')\n",
        "\n",
        "start = time.time()\n",
        "for i in range(n_data):\n",
        "    ann_index.add_item(i, X[i])\n",
        "ann_index.build(10)  # 10 trees\n",
        "build_time = time.time() - start\n",
        "\n",
        "start = time.time()\n",
        "neighbors = ann_index.get_nns_by_vector(query[0], k, include_distances=True)\n",
        "query_time = time.time() - start\n",
        "\n",
        "print(\"Build time:\", build_time, \"detik\")\n",
        "print(\"Query time:\", query_time, \"detik\")\n",
        "print(\"Neighbors:\", neighbors[0][:5], \"...\")\n",
        "\n",
        "# ===============================\n",
        "# 3. FAISS (Flat Index)\n",
        "# ===============================\n",
        "print(\"\\n=== FAISS (IndexFlatL2) ===\")\n",
        "faiss_index = faiss.IndexFlatL2(dim)\n",
        "\n",
        "start = time.time()\n",
        "faiss_index.add(X)\n",
        "build_time = time.time() - start\n",
        "\n",
        "start = time.time()\n",
        "distances, indices = faiss_index.search(query, k)\n",
        "query_time = time.time() - start\n",
        "\n",
        "print(\"Build time:\", build_time, \"detik\")\n",
        "print(\"Query time:\", query_time, \"detik\")\n",
        "print(\"Neighbors:\", indices[0][:5], \"...\")\n",
        "\n",
        "# ===============================\n",
        "# 4. HNSW (hnswlib)\n",
        "# ===============================\n",
        "print(\"\\n=== HNSW (hnswlib) ===\")\n",
        "hnsw_index = hnswlib.Index(space='l2', dim=dim)\n",
        "\n",
        "start = time.time()\n",
        "hnsw_index.init_index(max_elements=n_data, ef_construction=200, M=16)\n",
        "hnsw_index.add_items(X)\n",
        "build_time = time.time() - start\n",
        "\n",
        "hnsw_index.set_ef(50)\n",
        "\n",
        "start = time.time()\n",
        "labels, distances = hnsw_index.knn_query(query, k=k)\n",
        "query_time = time.time() - start\n",
        "\n",
        "print(\"Build time:\", build_time, \"detik\")\n",
        "print(\"Query time:\", query_time, \"detik\")\n",
        "print(\"Neighbors:\", labels[0][:5], \"...\")"
      ],
      "metadata": {
        "colab": {
          "base_uri": "https://localhost:8080/"
        },
        "id": "ubL6GLJAu9LD",
        "outputId": "022ae630-e227-4182-f334-4918a6ce6c80"
      },
      "execution_count": 9,
      "outputs": [
        {
          "output_type": "stream",
          "name": "stdout",
          "text": [
            "=== Annoy ===\n",
            "Build time: 21.876081228256226 detik\n",
            "Query time: 0.0002772808074951172 detik\n",
            "Neighbors: [57442, 369591, 406820, 890823, 244484] ...\n",
            "\n",
            "=== FAISS (IndexFlatL2) ===\n",
            "Build time: 0.008074522018432617 detik\n",
            "Query time: 0.006323337554931641 detik\n",
            "Neighbors: [ 57442 369591 406820 890823 244484] ...\n",
            "\n",
            "=== HNSW (hnswlib) ===\n",
            "Build time: 166.97459149360657 detik\n",
            "Query time: 0.0002892017364501953 detik\n",
            "Neighbors: [ 57442 369591 406820 890823 244484] ...\n"
          ]
        }
      ]
    },
    {
      "cell_type": "code",
      "source": [
        "import numpy as np\n",
        "import time\n",
        "import pandas as pd\n",
        "from annoy import AnnoyIndex\n",
        "import faiss\n",
        "import hnswlib\n",
        "\n",
        "def run_all_experiments(n_data, dim, k):\n",
        "    \"\"\"\n",
        "    Fungsi untuk menjalankan perbandingan Annoy, FAISS (Flat), dan HNSWlib\n",
        "    untuk metrik L2 dan Inner Product.\n",
        "    \"\"\"\n",
        "    print(f\"Menyiapkan dataset: {n_data} data, {dim}D...\")\n",
        "\n",
        "    # Buat dataset\n",
        "    np.random.seed(42)\n",
        "    X = np.random.random((n_data, dim)).astype(np.float32)\n",
        "    query = np.random.random((1, dim)).astype(np.float32)\n",
        "\n",
        "    results = []\n",
        "\n",
        "    # ==========================\n",
        "    # Skenario 1: L2 (Euclidean)\n",
        "    # ==========================\n",
        "    print(\"\\n--- Menjalankan Eksperimen Metrik L2 (Euclidean) ---\")\n",
        "\n",
        "    # --- Annoy ---\n",
        "    ann_index = AnnoyIndex(dim, 'euclidean')\n",
        "    start = time.time()\n",
        "    for i in range(n_data):\n",
        "        ann_index.add_item(i, X[i])\n",
        "    ann_index.build(10) # 10 trees\n",
        "    build_time = time.time() - start\n",
        "    start = time.time()\n",
        "    ann_index.get_nns_by_vector(query[0], k)\n",
        "    query_time = time.time() - start\n",
        "    results.append({\"Library\": \"Annoy\", \"Metrik Jarak\": \"L2\", \"Waktu Build (s)\": build_time, \"Waktu Query (s)\": query_time})\n",
        "\n",
        "    # --- FAISS (IndexFlatL2) ---\n",
        "    faiss_index = faiss.IndexFlatL2(dim)\n",
        "    start = time.time()\n",
        "    faiss_index.add(X)\n",
        "    build_time = time.time() - start\n",
        "    start = time.time()\n",
        "    faiss_index.search(query, k)\n",
        "    query_time = time.time() - start\n",
        "    results.append({\"Library\": \"FAISS (Flat)\", \"Metrik Jarak\": \"L2\", \"Waktu Build (s)\": build_time, \"Waktu Query (s)\": query_time})\n",
        "\n",
        "    # --- HNSW (hnswlib) ---\n",
        "    hnsw_index = hnswlib.Index(space='l2', dim=dim)\n",
        "    start = time.time()\n",
        "    hnsw_index.init_index(max_elements=n_data, ef_construction=200, M=16)\n",
        "    hnsw_index.add_items(X)\n",
        "    build_time = time.time() - start\n",
        "    hnsw_index.set_ef(50)\n",
        "    start = time.time()\n",
        "    hnsw_index.knn_query(query, k=k)\n",
        "    query_time = time.time() - start\n",
        "    results.append({\"Library\": \"HNSWlib\", \"Metrik Jarak\": \"L2\", \"Waktu Build (s)\": build_time, \"Waktu Query (s)\": query_time})\n",
        "\n",
        "    # ==============================\n",
        "    # Skenario 2: Inner Product (IP)\n",
        "    # ==============================\n",
        "    print(\"\\n--- Menjalankan Eksperimen Metrik Inner Product ---\")\n",
        "    # PENTING: Normalisasi data untuk perbandingan IP yang adil (setara Cosine Similarity)\n",
        "    X_norm = X.copy()\n",
        "    query_norm = query.copy()\n",
        "    faiss.normalize_L2(X_norm)\n",
        "    faiss.normalize_L2(query_norm)\n",
        "\n",
        "    # --- Annoy (menggunakan 'angular' untuk Cosine/IP) ---\n",
        "    ann_index_ip = AnnoyIndex(dim, 'angular')\n",
        "    start = time.time()\n",
        "    for i in range(n_data):\n",
        "        ann_index_ip.add_item(i, X_norm[i])\n",
        "    ann_index_ip.build(10)\n",
        "    build_time = time.time() - start\n",
        "    start = time.time()\n",
        "    ann_index_ip.get_nns_by_vector(query_norm[0], k)\n",
        "    query_time = time.time() - start\n",
        "    results.append({\"Library\": \"Annoy\", \"Metrik Jarak\": \"IP\", \"Waktu Build (s)\": build_time, \"Waktu Query (s)\": query_time})\n",
        "\n",
        "    # --- FAISS (IndexFlatIP) ---\n",
        "    faiss_index_ip = faiss.IndexFlatIP(dim)\n",
        "    start = time.time()\n",
        "    faiss_index_ip.add(X_norm)\n",
        "    build_time = time.time() - start\n",
        "    start = time.time()\n",
        "    faiss_index_ip.search(query_norm, k)\n",
        "    query_time = time.time() - start\n",
        "    results.append({\"Library\": \"FAISS (Flat)\", \"Metrik Jarak\": \"IP\", \"Waktu Build (s)\": build_time, \"Waktu Query (s)\": query_time})\n",
        "\n",
        "    # --- HNSW (hnswlib) ---\n",
        "    hnsw_index_ip = hnswlib.Index(space='ip', dim=dim)\n",
        "    start = time.time()\n",
        "    hnsw_index_ip.init_index(max_elements=n_data, ef_construction=200, M=16)\n",
        "    hnsw_index_ip.add_items(X_norm)\n",
        "    build_time = time.time() - start\n",
        "    hnsw_index_ip.set_ef(50)\n",
        "    start = time.time()\n",
        "    hnsw_index_ip.knn_query(query_norm, k=k)\n",
        "    query_time = time.time() - start\n",
        "    results.append({\"Library\": \"HNSWlib\", \"Metrik Jarak\": \"IP\", \"Waktu Build (s)\": build_time, \"Waktu Query (s)\": query_time})\n",
        "\n",
        "    # Tampilkan hasil\n",
        "    df = pd.DataFrame(results)\n",
        "    print(\"\\n--- Hasil Eksperimen ---\")\n",
        "    print(df.round(6).to_markdown(index=False))\n",
        "\n",
        "\n",
        "# --- Jalankan Eksperimen ---\n",
        "run_all_experiments(n_data=1_000_000, dim=5, k=10)"
      ],
      "metadata": {
        "colab": {
          "base_uri": "https://localhost:8080/"
        },
        "id": "Cofj6FY7u_wZ",
        "outputId": "ccbaafd2-4a98-42d2-d04a-fa80224f51cc"
      },
      "execution_count": 10,
      "outputs": [
        {
          "output_type": "stream",
          "name": "stdout",
          "text": [
            "Menyiapkan dataset: 1000000 data, 5D...\n",
            "\n",
            "--- Menjalankan Eksperimen Metrik L2 (Euclidean) ---\n",
            "\n",
            "--- Menjalankan Eksperimen Metrik Inner Product ---\n",
            "\n",
            "--- Hasil Eksperimen ---\n",
            "| Library      | Metrik Jarak   |   Waktu Build (s) |   Waktu Query (s) |\n",
            "|:-------------|:---------------|------------------:|------------------:|\n",
            "| Annoy        | L2             |         19.8599   |          0.000156 |\n",
            "| FAISS (Flat) | L2             |          0.007411 |          0.005997 |\n",
            "| HNSWlib      | L2             |        157.114    |          0.000199 |\n",
            "| Annoy        | IP             |         25.8728   |          0.000171 |\n",
            "| FAISS (Flat) | IP             |          0.007081 |          0.011553 |\n",
            "| HNSWlib      | IP             |        145.297    |          0.000187 |\n"
          ]
        }
      ]
    },
    {
      "cell_type": "markdown",
      "source": [
        "| Library      | Metrik Jarak   |   Waktu Build (s) |   Waktu Query (s) |\n",
        "|:-------------|:---------------|------------------:|------------------:|\n",
        "| Annoy        | L2             |         19.8599   |          0.000156 |\n",
        "| FAISS (Flat) | L2             |          0.007411 |          0.005997 |\n",
        "| HNSWlib      | L2             |        157.114    |          0.000199 |\n",
        "| Annoy        | IP             |         25.8728   |          0.000171 |\n",
        "| FAISS (Flat) | IP             |          0.007081 |          0.011553 |\n",
        "| HNSWlib      | IP             |        145.297    |          0.000187 |"
      ],
      "metadata": {
        "id": "QEsqEOuXu8sE"
      }
    },
    {
      "cell_type": "markdown",
      "source": [
        "### Praktikum 5"
      ],
      "metadata": {
        "id": "-ji1Br1svHJ_"
      }
    },
    {
      "cell_type": "code",
      "source": [
        "import numpy as np\n",
        "import time\n",
        "import faiss\n",
        "from annoy import AnnoyIndex\n",
        "import hnswlib\n",
        "import matplotlib.pyplot as plt\n",
        "\n",
        "# -------------------------------\n",
        "# Dataset random\n",
        "# -------------------------------\n",
        "d = 128        # dimensi\n",
        "nb = 100000    # jumlah database vector\n",
        "nq = 1000      # jumlah query\n",
        "\n",
        "np.random.seed(42)\n",
        "xb = np.random.random((nb, d)).astype('float32')\n",
        "xq = np.random.random((nq, d)).astype('float32')\n",
        "\n",
        "# -------------------------------\n",
        "# Ground truth dengan FAISS brute force\n",
        "# -------------------------------\n",
        "index_flat = faiss.IndexFlatL2(d)\n",
        "index_flat.add(xb)\n",
        "k = 10\n",
        "_, gt_idx = index_flat.search(xq, k)\n",
        "\n",
        "# -------------------------------\n",
        "# Fungsi recall\n",
        "# -------------------------------\n",
        "def recall_at_k(I_pred, I_gt, k):\n",
        "    correct = 0\n",
        "    for i in range(len(I_pred)):\n",
        "        correct += len(set(I_pred[i][:k]) & set(I_gt[i][:k]))\n",
        "    return correct / (len(I_pred) * k)\n",
        "\n",
        "# -------------------------------\n",
        "# Benchmark Annoy\n",
        "# -------------------------------\n",
        "def run_annoy(xb, xq, n_trees=10, search_k=1000, k=10):\n",
        "    f = xb.shape[1]\n",
        "    index = AnnoyIndex(f, 'euclidean')\n",
        "    for i, v in enumerate(xb):\n",
        "        index.add_item(i, v)\n",
        "    index.build(n_trees)\n",
        "\n",
        "    start = time.time()\n",
        "    I = [index.get_nns_by_vector(v, k, search_k=search_k) for v in xq]\n",
        "    elapsed = (time.time() - start) * 1000 / len(xq)  # ms/query\n",
        "    rec = recall_at_k(I, gt_idx, k)\n",
        "    return rec, elapsed\n",
        "\n",
        "# -------------------------------\n",
        "# Benchmark FAISS IVF\n",
        "# -------------------------------\n",
        "def run_faiss(xb, xq, nlist=100, nprobe=10, k=10):\n",
        "    quantizer = faiss.IndexFlatL2(d)\n",
        "    index = faiss.IndexIVFFlat(quantizer, d, nlist, faiss.METRIC_L2)\n",
        "    index.train(xb)\n",
        "    index.add(xb)\n",
        "\n",
        "    index.nprobe = nprobe\n",
        "    start = time.time()\n",
        "    _, I = index.search(xq, k)\n",
        "    elapsed = (time.time() - start) * 1000 / len(xq)\n",
        "    rec = recall_at_k(I, gt_idx, k)\n",
        "    return rec, elapsed\n",
        "\n",
        "# -------------------------------\n",
        "# Benchmark HNSW\n",
        "# -------------------------------\n",
        "def run_hnsw(xb, xq, ef=100, M=16, k=10):\n",
        "    num_elements = xb.shape[0]\n",
        "    p = hnswlib.Index(space='l2', dim=d)\n",
        "    p.init_index(max_elements=num_elements, ef_construction=200, M=M)\n",
        "    p.add_items(xb)\n",
        "    p.set_ef(ef)\n",
        "\n",
        "    start = time.time()\n",
        "    I, _ = p.knn_query(xq, k)\n",
        "    elapsed = (time.time() - start) * 1000 / len(xq)\n",
        "    rec = recall_at_k(I, gt_idx, k)\n",
        "    return rec, elapsed\n",
        "\n",
        "# -------------------------------\n",
        "# Jalankan benchmark dengan beberapa parameter\n",
        "# -------------------------------\n",
        "results = {\"Annoy\": [], \"Faiss\": [], \"HNSW\": []}\n",
        "\n",
        "# Annoy\n",
        "for sk in [200, 500, 1000, 2000]:\n",
        "    rec, t = run_annoy(xb, xq, n_trees=10, search_k=sk)\n",
        "    results[\"Annoy\"].append((rec, t))\n",
        "\n",
        "# FAISS\n",
        "for npb in [1, 5, 10, 20]:\n",
        "    rec, t = run_faiss(xb, xq, nlist=100, nprobe=npb)\n",
        "    results[\"Faiss\"].append((rec, t))\n",
        "\n",
        "# HNSW\n",
        "for ef in [50, 100, 200, 400]:\n",
        "    rec, t = run_hnsw(xb, xq, ef=ef)\n",
        "    results[\"HNSW\"].append((rec, t))\n",
        "\n",
        "# -------------------------------\n",
        "# Visualisasi trade-off\n",
        "# -------------------------------\n",
        "plt.figure(figsize=(8,6))\n",
        "for label, color in zip(results.keys(), [\"blue\",\"green\",\"red\"]):\n",
        "    recall, qtime = zip(*results[label])\n",
        "    plt.plot(recall, qtime, marker=\"o\", label=label, color=color)\n",
        "\n",
        "plt.xlabel(\"Recall\")\n",
        "plt.ylabel(\"Query Time (ms/query, log scale)\")\n",
        "plt.yscale(\"log\")\n",
        "plt.gca().invert_yaxis()  # invert Y, makin kanan makin turun\n",
        "plt.title(\"ANN Benchmark (Annoy vs Faiss vs HNSW)\")\n",
        "plt.legend()\n",
        "plt.grid(True, which=\"both\", ls=\"--\", alpha=0.6)\n",
        "plt.show()"
      ],
      "metadata": {
        "colab": {
          "base_uri": "https://localhost:8080/",
          "height": 564
        },
        "id": "Q8aDq7aMvGnY",
        "outputId": "1882802a-d1fb-480d-90ff-3ee4a9891d99"
      },
      "execution_count": 11,
      "outputs": [
        {
          "output_type": "display_data",
          "data": {
            "text/plain": [
              "<Figure size 800x600 with 1 Axes>"
            ],
            "image/png": "[encoded data removed]"
          },
          "metadata": {}
        }
      ]
    },
    {
      "cell_type": "markdown",
      "source": [
        "### Praktikum 6"
      ],
      "metadata": {
        "id": "BiZ2frLJvOsQ"
      }
    },
    {
      "cell_type": "code",
      "source": [
        "import kagglehub\n",
        "\n",
        "# Download latest version\n",
        "path = kagglehub.dataset_download(\"bwandowando/spotify-songs-with-attributes-and-lyrics\")\n",
        "\n",
        "print(\"Path to dataset files:\", path)\n",
        "\n",
        "!pip install -q annoy faiss-cpu hnswlib"
      ],
      "metadata": {
        "colab": {
          "base_uri": "https://localhost:8080/"
        },
        "id": "dubQaUkPvRL0",
        "outputId": "637d01a0-2636-481e-a6f5-6f333f30c5f5"
      },
      "execution_count": 12,
      "outputs": [
        {
          "output_type": "stream",
          "name": "stdout",
          "text": [
            "Downloading from https://www.kaggle.com/api/v1/datasets/download/bwandowando/spotify-songs-with-attributes-and-lyrics?dataset_version_number=19...\n"
          ]
        },
        {
          "output_type": "stream",
          "name": "stderr",
          "text": [
            "100%|██████████| 894M/894M [00:11<00:00, 84.9MB/s]"
          ]
        },
        {
          "output_type": "stream",
          "name": "stdout",
          "text": [
            "Extracting files...\n"
          ]
        },
        {
          "output_type": "stream",
          "name": "stderr",
          "text": [
            "\n"
          ]
        },
        {
          "output_type": "stream",
          "name": "stdout",
          "text": [
            "Path to dataset files: /root/.cache/kagglehub/datasets/bwandowando/spotify-songs-with-attributes-and-lyrics/versions/19\n"
          ]
        }
      ]
    },
    {
      "cell_type": "code",
      "source": [
        "import pandas as pd\n",
        "import numpy as np\n",
        "import os\n",
        "import time\n",
        "import faiss\n",
        "from annoy import AnnoyIndex\n",
        "import hnswlib\n",
        "from sklearn.neighbors import NearestNeighbors\n",
        "from joblib import Parallel, delayed\n",
        "from sklearn.preprocessing import StandardScaler\n",
        "\n",
        "# Use all available CPU cores where possible\n",
        "n_cores = os.cpu_count() or 1\n",
        "os.environ.setdefault('OMP_NUM_THREADS', str(n_cores))\n",
        "os.environ.setdefault('OPENBLAS_NUM_THREADS', str(n_cores))\n",
        "os.environ.setdefault('MKL_NUM_THREADS', str(n_cores))\n",
        "# Tell faiss to use multiple threads (if built with OpenMP)\n",
        "try:\n",
        "    faiss.omp_set_num_threads(n_cores)\n",
        "except Exception:\n",
        "    pass\n",
        "\n",
        "# -------------------------------\n",
        "# Load dataset (drop NaNs in chosen features)\n",
        "# -------------------------------\n",
        "df = pd.read_csv(f'{path}/songs_with_attributes_and_lyrics.csv')  # ganti path sesuai lokasi file\n",
        "features = ['danceability', 'energy', 'loudness', 'speechiness',\n",
        "            'acousticness', 'instrumentalness', 'liveness', 'valence', 'tempo']\n",
        "df = df[features].dropna().reset_index(drop=True)\n",
        "X = df.values\n",
        "\n",
        "# Standardize and cast to float32 (required by faiss/hnswlib)\n",
        "scaler = StandardScaler()\n",
        "X_scaled = scaler.fit_transform(X).astype(np.float32)\n",
        "\n",
        "n = X_scaled.shape[0]\n",
        "k = 10  # jumlah nearest neighbors\n",
        "# To keep this runnable on limited RAM, sample up to 1000 query points\n",
        "n_queries = min(1000, n)\n",
        "rng = np.random.default_rng(42)\n",
        "query_idx = rng.choice(n, size=n_queries, replace=False)\n",
        "# Xq = X_scaled[query_idx]\n",
        "Xq = X_scaled\n",
        "\n",
        "# -------------------------------\n",
        "# Exact Nearest Neighbor (brute-force) - only for the sampled queries\n",
        "# -------------------------------\n",
        "t0 = time.time()\n",
        "nn = NearestNeighbors(n_neighbors=k, algorithm='brute', metric='euclidean', n_jobs=-1)\n",
        "nn.fit(X_scaled)\n",
        "dist_exact, idx_exact = nn.kneighbors(Xq)\n",
        "time_exact = time.time() - t0\n",
        "print(f\"Exact NN (queries={n_queries}) done in {time_exact:.3f} s\")\n",
        "\n",
        "# -------------------------------\n",
        "# Annoy (build + query on sampled points)\n",
        "# -------------------------------\n",
        "t0 = time.time()\n",
        "fdim = X_scaled.shape[1]\n",
        "index_annoy = AnnoyIndex(fdim, 'euclidean')\n",
        "for i, v in enumerate(X_scaled):\n",
        "    index_annoy.add_item(i, v.tolist())\n",
        "n_trees = 50\n",
        "index_annoy.build(n_trees)\n",
        "t_build_annoy = time.time() - t0\n",
        "\n",
        "tq = time.time()\n",
        "# Annoy: parallelize queries using joblib (threading) to utilize multiple cores\n",
        "def _query_annoy(v):\n",
        "    return index_annoy.get_nns_by_vector(v.tolist(), k)\n",
        "idx_annoy = Parallel(n_jobs=n_cores, prefer='threads')(delayed(_query_annoy)(v) for v in Xq)\n",
        "time_query_annoy = time.time() - tq\n",
        "print(f\"Annoy build: {t_build_annoy:.3f} s, query all: {time_query_annoy:.3f} s\")\n",
        "\n",
        "# -------------------------------\n",
        "# HNSW (hnswlib)\n",
        "# -------------------------------\n",
        "t0 = time.time()\n",
        "p = hnswlib.Index(space='l2', dim=fdim)\n",
        "p.init_index(max_elements=n, ef_construction=200, M=16)\n",
        "p.add_items(X_scaled)\n",
        "p.set_ef(200)\n",
        "t_build_hnsw = time.time() - t0\n",
        "\n",
        "tq = time.time()\n",
        "# hnswlib supports num_threads in knn_query\n",
        "idx_hnsw, dist_hnsw = p.knn_query(Xq, k=k, num_threads=n_cores)\n",
        "time_query_hnsw = time.time() - tq\n",
        "print(f\"HNSW build: {t_build_hnsw:.3f} s, query all: {time_query_hnsw:.3f} s\")\n",
        "\n",
        "# -------------------------------\n",
        "# FAISS IVF (train on full set, query sampled points)\n",
        "# -------------------------------\n",
        "t0 = time.time()\n",
        "quantizer = faiss.IndexFlatL2(fdim)\n",
        "nlist = 100\n",
        "index_faiss = faiss.IndexIVFFlat(quantizer, fdim, nlist, faiss.METRIC_L2)\n",
        "# FAISS requires float32 and contiguous arrays\n",
        "index_faiss.train(np.ascontiguousarray(X_scaled))\n",
        "index_faiss.add(np.ascontiguousarray(X_scaled))\n",
        "index_faiss.nprobe = 10\n",
        "t_build_faiss = time.time() - t0\n",
        "\n",
        "tq = time.time()\n",
        "# FAISS can use multiple threads via set_num_threads if available\n",
        "try:\n",
        "    faiss.omp_set_num_threads(n_cores)\n",
        "except Exception:\n",
        "    pass\n",
        "D_faiss, idx_faiss = index_faiss.search(np.ascontiguousarray(Xq), k)\n",
        "time_query_faiss = time.time() - tq\n",
        "print(f\"FAISS build: {t_build_faiss:.3f} s, query all: {time_query_faiss:.3f} s\")\n",
        "\n",
        "# -------------------------------\n",
        "# Evaluate recall@k for each ANN vs exact\n",
        "# -------------------------------\n",
        "def recall_at_k(true_idx, pred_idx, k):\n",
        "    # true_idx: (n_queries, k), pred_idx: iterable of length n_queries with lists/arrays\n",
        "    total = 0.0\n",
        "    n = len(true_idx)\n",
        "    for t, p in zip(true_idx, pred_idx):\n",
        "        pset = set(p.tolist() if hasattr(p, 'tolist') else p)\n",
        "        total += len(pset.intersection(set(t[:k]))) / float(k)\n",
        "    return total / n\n",
        "\n",
        "rec_annoy = recall_at_k(idx_exact, idx_annoy, k)\n",
        "rec_hnsw = recall_at_k(idx_exact, idx_hnsw, k)\n",
        "rec_faiss = recall_at_k(idx_exact, idx_faiss, k)\n",
        "\n",
        "print('\\nSummary (build time | query time for sampled points | recall@k)')\n",
        "print(f\"Exact:  - | {time_exact:.3f} s (queries only) | recall=1.00\")\n",
        "print(f\"Annoy:  {t_build_annoy:.3f} s | {time_query_annoy:.3f} s | recall@{k}={rec_annoy:.4f}\")\n",
        "print(f\"HNSW:   {t_build_hnsw:.3f} s | {time_query_hnsw:.3f} s | recall@{k}={rec_hnsw:.4f}\")\n",
        "print(f\"FAISS:  {t_build_faiss:.3f} s | {time_query_faiss:.3f} s | recall@{k}={rec_faiss:.4f}\")\n",
        "\n",
        "# show top-5 neighbors for the first sampled query (original dataset index)\n",
        "qid = query_idx[0]\n",
        "print(\"\\nTop-5 neighbors for first sampled query (dataset index = {})\".format(int(qid)))\n",
        "print(f\"Exact NN: {idx_exact[0][:5]}\")\n",
        "print(f\"Annoy:    {idx_annoy[0][:5]}\")\n",
        "print(f\"HNSW:     {idx_hnsw[0][:5]}\")\n",
        "print(f\"FAISS:    {idx_faiss[0][:5]}\")"
      ],
      "metadata": {
        "colab": {
          "base_uri": "https://localhost:8080/"
        },
        "id": "LoNhJJZqvYrD",
        "outputId": "386c6fe3-74aa-4a6c-dad0-3080ad2eb22e"
      },
      "execution_count": 13,
      "outputs": [
        {
          "output_type": "stream",
          "name": "stdout",
          "text": [
            "Exact NN (queries=1000) done in 3625.344 s\n",
            "Annoy build: 72.161 s, query all: 256.429 s\n",
            "HNSW build: 170.371 s, query all: 139.948 s\n",
            "FAISS build: 0.376 s, query all: 681.745 s\n",
            "\n",
            "Summary (build time | query time for sampled points | recall@k)\n",
            "Exact:  - | 3625.344 s (queries only) | recall=1.00\n",
            "Annoy:  72.161 s | 256.429 s | recall@10=0.9945\n",
            "HNSW:   170.371 s | 139.948 s | recall@10=0.9955\n",
            "FAISS:  0.376 s | 681.745 s | recall@10=0.9982\n",
            "\n",
            "Top-5 neighbors for first sampled query (dataset index = 287796)\n",
            "Exact NN: [     0 394553 764272 837727 749223]\n",
            "Annoy:    [0, 394553, 764272, 837727, 749223]\n",
            "HNSW:     [     0 394553 764272 837727 749223]\n",
            "FAISS:    [     0 394553 764272 837727 749223]\n"
          ]
        }
      ]
    },
    {
      "cell_type": "markdown",
      "source": [
        "#### Buat dan tuliskan analisa anda terhadap code diatas.\n",
        "\n",
        "Code tersebut bertujuan membandingkan performa kecepatan dan hasil dari beberapa algoritma Nearest Neighbor Search pada dataset lirik lagu Spotify.\n",
        "Hasil dari code diatas:\n",
        "\n",
        "| Aspek | Annoy | HNSW | FAISS |\n",
        "|:-----|:-----|:-----|:-----|\n",
        "| Kecepatan Query |\tSedang |\tTercepat |\tLambat\n",
        "| Akurasi (Recall) |\tSangat tinggi (0.9945) |\tSangat tinggi (0.9936) |\tTertinggi (0.9982) |\n",
        "| Waktu Build | Cepat |\tSedang |\tSangat | cepat |\n",
        "\n",
        "\n",
        "Interpretasi:\n",
        "\n",
        "- Exact NN terlalu lambat (brute force), tidak cocok untuk deployment real-time.\n",
        "- Annoy lebih ringan untuk build dan cocok untuk sistem yang butuh load cepat.\n",
        "- HNSW menawarkan keseimbangan terbaik: cepat, akurat, efisien.\n",
        "- FAISS IVF unggul dalam akurasi dan build speed, tetapi membutuhkan tuning (nlist, nprobe) agar query speed optimal.\n"
      ],
      "metadata": {
        "id": "GvCt_NCAvZq9"
      }
    },
    {
      "cell_type": "markdown",
      "source": [
        "## Tugas"
      ],
      "metadata": {
        "id": "52AMe38-sy3G"
      }
    },
    {
      "cell_type": "markdown",
      "source": [
        "Jalankan code berikut pada Google Colab dan PyDroid3 (Android Python) Application di Smartphone Android. Bandingkan hasilnya dan tuliskan analisa anda, tuliskan juga spesifikasi smartphone yang anda gunakan :)."
      ],
      "metadata": {
        "id": "5ZOBlmQuxwRJ"
      }
    },
    {
      "cell_type": "code",
      "source": [
        "import numpy as np\n",
        "import time\n",
        "from sklearn.neighbors import NearestNeighbors\n",
        "from annoy import AnnoyIndex\n",
        "import hnswlib\n",
        "import faiss\n",
        "from sklearn.preprocessing import StandardScaler\n",
        "\n",
        "# -------------------------------\n",
        "# Contoh dataset kecil untuk testing\n",
        "# -------------------------------\n",
        "np.random.seed(42)\n",
        "n_samples = 10000   # jumlah database vector\n",
        "d = 128             # dimensi\n",
        "X = np.random.random((n_samples, d)).astype('float32')\n",
        "\n",
        "# Standarisasi fitur\n",
        "scaler = StandardScaler()\n",
        "X_scaled = scaler.fit_transform(X)\n",
        "\n",
        "k = 10  # jumlah nearest neighbors\n",
        "\n",
        "# -------------------------------\n",
        "# Exact NN (brute-force)\n",
        "# -------------------------------\n",
        "start = time.time()\n",
        "nn = NearestNeighbors(n_neighbors=k, algorithm='brute', metric='euclidean')\n",
        "nn.fit(X_scaled)\n",
        "dist_exact, idx_exact = nn.kneighbors(X_scaled)\n",
        "time_exact = time.time() - start\n",
        "print(f\"Exact NN done in {time_exact:.3f} s\")\n",
        "\n",
        "# -------------------------------\n",
        "# Annoy\n",
        "# -------------------------------\n",
        "start = time.time()\n",
        "f = X_scaled.shape[1]\n",
        "index_annoy = AnnoyIndex(f, 'euclidean')\n",
        "for i, v in enumerate(X_scaled):\n",
        "    index_annoy.add_item(i, v)\n",
        "index_annoy.build(10)\n",
        "idx_annoy = [index_annoy.get_nns_by_vector(v, k) for v in X_scaled]\n",
        "time_annoy = time.time() - start\n",
        "print(f\"Annoy done in {time_annoy:.3f} s\")\n",
        "\n",
        "# -------------------------------\n",
        "# HNSW\n",
        "# -------------------------------\n",
        "start = time.time()\n",
        "p_hnsw = hnswlib.Index(space='l2', dim=d)\n",
        "p_hnsw.init_index(max_elements=n_samples, ef_construction=200, M=16)\n",
        "p_hnsw.add_items(X_scaled)\n",
        "p_hnsw.set_ef(200)\n",
        "idx_hnsw, _ = p_hnsw.knn_query(X_scaled, k=k)\n",
        "time_hnsw = time.time() - start\n",
        "print(f\"HNSW done in {time_hnsw:.3f} s\")\n",
        "\n",
        "# -------------------------------\n",
        "# FAISS IVF\n",
        "# -------------------------------\n",
        "start = time.time()\n",
        "quantizer = faiss.IndexFlatL2(d)\n",
        "index_faiss = faiss.IndexIVFFlat(quantizer, d, 100, faiss.METRIC_L2)\n",
        "index_faiss.train(X_scaled)\n",
        "index_faiss.add(X_scaled)\n",
        "index_faiss.nprobe = 10\n",
        "_, idx_faiss = index_faiss.search(X_scaled, k)\n",
        "time_faiss = time.time() - start\n",
        "print(f\"FAISS IVF done in {time_faiss:.3f} s\")\n",
        "\n",
        "# -------------------------------\n",
        "# Tampilkan ringkasan waktu\n",
        "# -------------------------------\n",
        "print(\"\\n=== Ringkasan Waktu (detik) ===\")\n",
        "print(f\"Exact NN : {time_exact:.3f}\")\n",
        "print(f\"Annoy    : {time_annoy:.3f}\")\n",
        "print(f\"HNSW     : {time_hnsw:.3f}\")\n",
        "print(f\"FAISS    : {time_faiss:.3f}\")"
      ],
      "metadata": {
        "colab": {
          "base_uri": "https://localhost:8080/"
        },
        "id": "jjfZ15jOxv5K",
        "outputId": "36e7b3c7-6bce-4950-bbee-1e6c6f321a9f"
      },
      "execution_count": 14,
      "outputs": [
        {
          "output_type": "stream",
          "name": "stdout",
          "text": [
            "Exact NN done in 1.861 s\n",
            "Annoy done in 1.041 s\n",
            "HNSW done in 4.249 s\n",
            "FAISS IVF done in 0.331 s\n",
            "\n",
            "=== Ringkasan Waktu (detik) ===\n",
            "Exact NN : 1.861\n",
            "Annoy    : 1.041\n",
            "HNSW     : 4.249\n",
            "FAISS    : 0.331\n"
          ]
        }
      ]
    }
  ]
}